{
 "cells": [
  {
   "cell_type": "markdown",
   "metadata": {},
   "source": [
    "# Lezione 2\n",
    "Programma del giorno:\n",
    "- Liste, sets, tuples e dizionari\n",
    "- Operatori logici e loop\n",
    "- Funzioni\n",
    "\n",
    "#### Un paio di annunci:\n",
    "- Date prossime lezioni sul [Google Calendar](https://calendar.google.com/calendar?cid=M2J0bXN2Ymw1dTRnOXQ5Ymt1ODlyaWNpdjBAZ3JvdXAuY2FsZW5kYXIuZ29vZ2xlLmNvbQ):\n",
    "    - 28\\01 alle 16 (Aula C)\n",
    "    - 4\\02 alle 11 (Aula Blu)\n",
    "    - 13\\02 alle 11 (Aula Magna)\n",
    "    - 19\\02 alle 16 (Aula C)\n",
    "- Ho deciso di caricare i notebook anche su un [Drive](https://drive.google.com/open?id=1i3_KwMxRXf6rUrGy4R2Y-oaUdd4GjGtS) per facilitare l'accesso \n",
    "\n",
    "#### Postille:\n",
    "I numeri non hanno virgole ma punti.\n",
    "\n",
    "Non è necessario specificare quando un numero è un float, e i float NON sono seguiti da \"f\".\n",
    "\n",
    "Hashing con l'ID è possibile ma generalmente sconsigliato perchè è facile che rompa i principi dell'hashing.\n",
    "\n",
    "Lo slicing delle stringhe (e delle liste, come vedremo) finisce un numero prima di quello indicato nella scrittura string[start:end:gap]. Inoltre, usare indici negativi vi fa partire dal fondo, quindi stringa[-1] sarà sempre l'ultimo carattere della stringa\n",
    "\n",
    "Per ottenere la lunghezza di una stringa posso usare len(stringa).\n",
    "\n",
    "## Liste\n",
    "Una lista è un _container ordinato non omogeneo_. Questo significa che all'interno di una lista posso mettere oggetti di ogni tipo, alternando volendo stringhe, numeri, oggetti creati dall'utente e anche altre liste\n",
    "Per dichiarare una lista uso le parentesi quadre [] e separo gli oggetti con virgole:"
   ]
  },
  {
   "cell_type": "code",
   "execution_count": 6,
   "metadata": {},
   "outputs": [
    {
     "name": "stdout",
     "output_type": "stream",
     "text": [
      "['a', 'b', 'c', 'd', 'e']\n",
      "[12, 22.54, 'pippo', ['a', 'b', 'c', 'd', 'e']]\n"
     ]
    }
   ],
   "source": [
    "lista_1 = [\"a\", \"b\", \"c\", \"d\", \"e\"]\n",
    "lista_2 = [12, 22.54, \"pippo\", lista_1]\n",
    "print(lista_1)\n",
    "print(lista_2)"
   ]
  },
  {
   "cell_type": "markdown",
   "metadata": {},
   "source": [
    "Altre caratteristiche delle liste: \n",
    "- Mutabili\n",
    "- Ordinate\n",
    "- Si accede agli elementi usando l'indice\n",
    "- Sliceable\n",
    "- Nestable\n",
    "- Grandezza variabile\n",
    "- L'indice parte da 0\n",
    "- Poichè sono ordinate, ci possono essere elementi ripetuti"
   ]
  },
  {
   "cell_type": "code",
   "execution_count": 7,
   "metadata": {},
   "outputs": [
    {
     "name": "stdout",
     "output_type": "stream",
     "text": [
      "3030661781448\n",
      "['a', 'b', 'c', 15, 'e'] 3030661781448\n",
      "e\n",
      "['b', 'c']\n",
      "b\n",
      "['a', 'b', 'c', 15, 'e']\n",
      "e\n"
     ]
    }
   ],
   "source": [
    "print(id(lista_1))\n",
    "lista_1[3] = 15\n",
    "print(lista_1, id(lista_1)) # Le liste sono mutabili, quindi l'ID non cambia\n",
    "\n",
    "print(lista_1[4])\n",
    "print(lista_1[1:3]) # Slicing, di cui abbiamo parlato anche la volta scorsa \n",
    "print(lista_2[3][1]) # Con le nested lists, posso accedere alle liste interne in questo modo\n",
    "print(lista_2[3]) # Poichè le liste sono mutabili, modificare lista_1 ha modificato lista_2\n",
    "print(lista_1[-1]) # indici negativi partono dal fondo"
   ]
  },
  {
   "cell_type": "markdown",
   "metadata": {},
   "source": [
    "### Metodi definiti per le liste\n",
    "Come sempre, python offre molto supporto per modificare le liste senza che dobbiamo \"sporcarci le mani\". Possiamo provare ad usare i seguenti metodi"
   ]
  },
  {
   "cell_type": "code",
   "execution_count": 18,
   "metadata": {},
   "outputs": [
    {
     "name": "stdout",
     "output_type": "stream",
     "text": [
      "[1, 2, 3, [11, 12, 'one']]\n",
      "[1, 2, 3, [11, 12, 'one'], 33, 44]\n",
      "[1, 2, [55, 66], 3, [11, 12, 'one'], 33, 44]\n",
      "[1, 2, [55, 66], 3, [11, 12, 'one'], 33, 44, 'aa', 'bb']\n",
      "\n",
      "[2, 3, 4, 6, 7, 7, 8]\n",
      "[8, 7, 7, 6, 4, 3, 2]\n",
      "[8, 7, 7, 4, 3, 2]\n",
      "6\n",
      "\n",
      "2\n",
      "\n",
      "6\n",
      "range(0, 10)\n",
      "range(4, 20, 3)\n"
     ]
    }
   ],
   "source": [
    "ls = [1, 2, 3]\n",
    "\n",
    "ls.append([11, 12, 'one'])  # aggiunge questo elemento in fondo alla lista\n",
    "print(ls)\n",
    "ls.extend([33,44])  #aggiunge gli elementi in fondo alla lista, ma li \"spacchetta\"\n",
    "print(ls)\n",
    "ls.insert(2,[55,66])  #aggiunge l'elemento all'indice specificato, senza spacchettarlo\n",
    "print(ls)\n",
    "ls = ls + ['aa', 'bb']  # aggiunge gli elementi della seconda lista al fondo della prima \n",
    "print(ls)\n",
    "print()\n",
    "\n",
    "ls = [4, 6, 2, 7, 8, 3,7]\n",
    "ls.sort()\n",
    "print(ls)\n",
    "ls.reverse()\n",
    "print(ls)\n",
    "a = ls.pop(3)  # rimuove l'elemento all'indice specificato e ne restituisce una copia\n",
    "print(ls)\n",
    "print(a)\n",
    "print()\n",
    "\n",
    "print(ls.count(7))\n",
    "print()\n",
    "\n",
    "print(len(ls))          # Length\n",
    "print(range(10))        # Generate a list of integers\n",
    "print(range(4,20,3))    # range(start, stop, step)"
   ]
  },
  {
   "cell_type": "code",
   "execution_count": 17,
   "metadata": {},
   "outputs": [
    {
     "name": "stdout",
     "output_type": "stream",
     "text": [
      "['abba', 'beatles', 'iron maiden', 'korn', 'queen', 'the rolling stones']\n",
      "['abba', 'korn', 'queen', 'beatles', 'iron maiden', 'the rolling stones']\n",
      "['abba', 'beatles', 'iron maiden', 'korn', 'queen', 'the rolling stones']\n"
     ]
    }
   ],
   "source": [
    "# La funzione sort può prendere come parametro una funzione che modifica la chiave di ordinamento della lista:\n",
    "ls = ['abba', 'iron maiden', 'queen', 'korn', 'beatles', 'the rolling stones']\n",
    "ls.sort()\n",
    "print(ls)\n",
    "ls.sort(key=len) #Ordino per lunghezza\n",
    "print(ls)\n",
    "\n",
    "# Come si può osservare, la funzione sort modifica la lista. Se non si vuole che ciò accada, si può usare la funzione sorted:\n",
    "print(sorted(ls))"
   ]
  },
  {
   "cell_type": "markdown",
   "metadata": {},
   "source": [
    "## Sets\n",
    "I set sono liste con elementi unici. Si possono dichiarare usando o le parentesi graffe {} e separando gli elementi con virgole, o con la funzione set(). Le principali caratteristiche dei set sono:\n",
    "- Sono mutabili ma non possono contenere oggetti mutabili \n",
    "- Per avere un set immutabile posso usare frozenset\n",
    "- Non sono ordinati, quindi non supportano indexing e slicing\n",
    "- Grandezza variabile"
   ]
  },
  {
   "cell_type": "code",
   "execution_count": 24,
   "metadata": {},
   "outputs": [
    {
     "name": "stdout",
     "output_type": "stream",
     "text": [
      "{1, 2, 7, 9, 'a', 'xyz'}\n",
      "{1, 2, 33, 42, 'a', 18}\n",
      "{'6', '5', '4', '2', '8', '1', '7', '3'}\n",
      "\n",
      "{1, 2, 'a'}\n",
      "{1, 2, 33, 7, 9, 42, 'a', 18, 'xyz'}\n",
      "{33, 7, 9, 42, 18, 'xyz'}\n",
      "{9, 'xyz', 7}\n",
      "['6', '5', '4', '2', '8', '1', '7', '3']\n"
     ]
    }
   ],
   "source": [
    "s1 = {1, 2, 7, 9, 'xyz', 'a'}\n",
    "# s2 = {[1, 2, 3], 4, 4, 'hghg', 'tyty'}     # questo set darebbe una serie di errori \n",
    "s2 = set([1, 2, 'a', 18, 33])\n",
    "s3 = set('12366574883')\n",
    "s2.add(42)     # un set può essere modificato dopo essere stato creato\n",
    "\n",
    "print(s1)\n",
    "print(s2)\n",
    "print(s3)\n",
    "print()\n",
    "\n",
    "\n",
    "# I set permettono di usare operatori logici per determinare intersezione e unione\n",
    "print(s1 & s2) # intersezione\n",
    "print(s1 | s2) # unione\n",
    "print(s1 ^ s2) # XOR\n",
    "print(s1 - s2) # non intersezione\n",
    "print(list(s3))  #per poter indicizzare un set, devo trasformarlo in una lista"
   ]
  },
  {
   "cell_type": "markdown",
   "metadata": {},
   "source": [
    "## Tuples\n",
    "Si tratta di una lista immutabile, e si comporta allo stesso modo in quasi ogni cosa: può essere indicizzata allo stesso modo, si definisce allo stesso modo, ma con parentesi tonde anzichè quadre.\n",
    "Una volta che è stato creato, non si possono aggiungere o rimuovere elementi \n",
    "Ma allora perchè usarli?\n",
    "- Sono più veloci delle liste\n",
    "- Protegge i dati da cambiamenti accidentali, perciò è preferibile usarli quando si sa che un dato non deve essere modificato\n",
    "- Possono essere usati all'interno di set e come key dei dizionari (che vedremo a breve)\n",
    "\n",
    "### Unpacking\n",
    "Uno degli usi più comuni dei Tuples è fare unpacking, un modo molto efficiente di assegnare più variabili allo stesso tempo. Ne vediamo alcuni esempi"
   ]
  },
  {
   "cell_type": "code",
   "execution_count": 36,
   "metadata": {},
   "outputs": [
    {
     "name": "stdout",
     "output_type": "stream",
     "text": [
      "3 1 2\n",
      "\n",
      "1 2 3\n",
      "4 5 6\n",
      "7 8 9\n",
      "\n",
      "5\n",
      "\n",
      "('Chloe', 'Emily', 'Sophia') ('Stuart', 'Windsor', 'Davidson')\n",
      "<zip object at 0x000002C1A36BD3C8>\n",
      "(('Chloe', 'Emily', 'Sophia'),) (('Stuart', 'Windsor', 'Davidson'),)\n",
      "('Chloe', 'Stuart') ('Emily', 'Windsor') ('Sophia', 'Davidson')\n",
      "Chloe Stuart\n",
      "Emily Windsor\n",
      "Sophia Davidson\n"
     ]
    }
   ],
   "source": [
    "a, b, c = (1, 2, 3)\n",
    "print(c, a, b)\n",
    "print()\n",
    "\n",
    "\n",
    "# Vedremo in seguito i cicli for, ma questo è un ottimo esempio di come usare meno righe di codice\n",
    "seq = [(1, 2, 3), (4, 5, 6), (7, 8, 9)]\n",
    "for a, b, c in seq:    # questa riga guarda ogni elemento della lista (ognuno dei set) e fa unpacking\n",
    "    print(a, b, c) \n",
    "print()\n",
    "\n",
    "def myfunction(pack):\n",
    "    a, b, c, d = pack\n",
    "    print(a+b+c+d[0]-d[1])\n",
    "    \n",
    "t = 1, 2, 3, (8, 9)  # Pack arguments to pass it to a function\n",
    "myfunction(t)\n",
    "print()\n",
    "\n",
    "\n",
    "names = [('Chloe', 'Emily', 'Sophia'), ('Stuart', 'Windsor', 'Davidson')]\n",
    "print(zip(names))\n",
    "print(*zip(names))\n",
    "print(*zip(*names))\n",
    "for firstname, lastname in zip(*names): # la funzione zip crea delle coppie di valori"
   ]
  },
  {
   "cell_type": "markdown",
   "metadata": {},
   "source": [
    "## Dizionari \n",
    "I dizionari sono 'vettori associativi': i valori non sono indicizzati da numeri, ma possono essere associati a qualsiasi indice si voglia. L'indice può essere un intero, ma anche una stringa, un tuple o qualsiasi altro oggetto immutabile. \n",
    "Gli indici sono detti \"key\" o \"chiavi\" e i valori associati alla chiave \"values\". A una chiave si possono associare quanti valori si vogliono, ma le chiavi devono essere uniche.\n",
    "\n",
    "Un dizionario si può scrivere in due modi: usando {key:value, key:value}, oppure la funzione dict"
   ]
  },
  {
   "cell_type": "code",
   "execution_count": 38,
   "metadata": {},
   "outputs": [
    {
     "name": "stdout",
     "output_type": "stream",
     "text": [
      "(831) 758-7214\n",
      "(831) 758-7214\n"
     ]
    }
   ],
   "source": [
    "# In questo esempio, usiamo come chiavi dei tuples e stringhe per values.\n",
    "# La funzione dict crea un dizionario a partire da una lista di tuples disposti a coppia\n",
    "data = [(('Chloe', 'Stuart'), '(831) 758-7214'),\n",
    "        (('Emily', 'Windsor'), '(877) 359-8474'),\n",
    "        (('Sophia', 'Davidson'), '(800) 445-2854')]\n",
    "d = dict(data)\n",
    "print(d[('Chloe', 'Stuart')])      # In questo modo accediamo al valore della chiave ('Chloe', 'Stuart')\n",
    "\n",
    "# Altro modo di scrivere un dizionario:\n",
    "d1 = {('Chloe', 'Stuart'):'(831) 758-7214',\n",
    "        ('Emily', 'Windsor'):'(877) 359-8474',\n",
    "        ('Sophia', 'Davidson'):'(800) 445-2854'}\n",
    "\n",
    "print(d1[('Chloe', 'Stuart')])"
   ]
  },
  {
   "cell_type": "markdown",
   "metadata": {},
   "source": [
    "Come sempre, di seguito una lista di comandi che possiamo applicare a un dizionario per manipolare e accedere ai valori"
   ]
  },
  {
   "cell_type": "code",
   "execution_count": 40,
   "metadata": {},
   "outputs": [
    {
     "name": "stdout",
     "output_type": "stream",
     "text": [
      "dict_keys([('Chloe', 'Stuart'), ('Emily', 'Windsor'), ('Sophia', 'Davidson')])\n",
      "dict_values(['(831) 758-7214', '(877) 359-8474', '(800) 445-2854'])\n",
      "dict_items([(('Chloe', 'Stuart'), '(831) 758-7214'), (('Emily', 'Windsor'), '(877) 359-8474'), (('Sophia', 'Davidson'), '(800) 445-2854')])\n"
     ]
    }
   ],
   "source": [
    "print(d.keys())\n",
    "print(d.values())\n",
    "print(d.items())\n",
    "\n",
    "print(d.get(('Chloe', 'Windsor'),'Number not available')) # questa funzione permette di assegnare un valore di default\n",
    "                                                           # nel caso in cui l'item non fosse disponibile\n",
    "    \n"
   ]
  },
  {
   "cell_type": "markdown",
   "metadata": {},
   "source": [
    "## Operatori logici e loop\n",
    "#### IF, ELIF, ELSE\n",
    "Dopo il blocco di condizione, bisogna aggiungere un due punti, andare a capo e inserire una tabulazione"
   ]
  },
  {
   "cell_type": "code",
   "execution_count": 41,
   "metadata": {},
   "outputs": [
    {
     "name": "stdout",
     "output_type": "stream",
     "text": [
      "'a' is not 7\n",
      "'a' is greater than 15\n"
     ]
    }
   ],
   "source": [
    "a = 34\n",
    "if a != 7:\n",
    "    print(\"'a' is not 7\")\n",
    "if a > 15:\n",
    "    print(\"'a' is greater than 15\")\n",
    "elif a == 15:\n",
    "    print(\"'a' is exactly 15!\")\n",
    "else:\n",
    "    print(\"'a' is less than 15\")"
   ]
  },
  {
   "cell_type": "markdown",
   "metadata": {},
   "source": [
    "Le condizioni logiche devono sempre essere seguite da una booleana, cioè uno statement che ha valore ```True``` o ```False```. \n",
    "Gli operatori più utilizzati per creare boolean values sono"
   ]
  },
  {
   "cell_type": "code",
   "execution_count": 45,
   "metadata": {},
   "outputs": [
    {
     "name": "stdout",
     "output_type": "stream",
     "text": [
      "True\n",
      "False\n",
      "True\n",
      "False\n",
      "True\n"
     ]
    }
   ],
   "source": [
    "print(34 > 15)\n",
    "print(34 < 15)\n",
    "print(34 >= 34)\n",
    "print(34 == 21)\n",
    "print(34 != 21)"
   ]
  },
  {
   "cell_type": "markdown",
   "metadata": {},
   "source": [
    "Inoltre, si possono usare le congiunzioni ```and``` e ```or```, e la negazione ```not```. Molto spesso si usa l'operatore ```in``` per controllare se un elemento è contenuto in una variabile"
   ]
  },
  {
   "cell_type": "code",
   "execution_count": 49,
   "metadata": {},
   "outputs": [
    {
     "name": "stdout",
     "output_type": "stream",
     "text": [
      "Or statement\n",
      "Not\n",
      "In\n"
     ]
    }
   ],
   "source": [
    "if 34 > 15 and 12 > 24:\n",
    "    print('And statement')\n",
    "\n",
    "if 34 > 15 or 12 > 24:\n",
    "    print('Or statement')\n",
    "\n",
    "if not False: \n",
    "    print('Not')\n",
    "    \n",
    "if 'hello' in ['hi', 'ciao','hello']:\n",
    "    print('In')"
   ]
  },
  {
   "cell_type": "markdown",
   "metadata": {},
   "source": [
    "#### FOR loops\n",
    "In python si può molto semplicemente iterare lungo liste, dizionari, righe di un file, e tutti gli oggetti di tipo \"Iterable\""
   ]
  },
  {
   "cell_type": "code",
   "execution_count": 48,
   "metadata": {},
   "outputs": [
    {
     "name": "stdout",
     "output_type": "stream",
     "text": [
      "a\n",
      "c\n",
      "d\n",
      "Done !\n"
     ]
    }
   ],
   "source": [
    "l = ['a', 'b', 'c', 'd', 'e', 'f']\n",
    "for v in l:    # per ogni elemento della lista, esegui queste istruzioni. Assegna automaticamente l'elemento alla variabile \"v\"\n",
    "    if v == 'e':\n",
    "        break            # Skip all loops and go the 'else' statement\n",
    "    elif v == 'b':\n",
    "        continue         # Skip this loop\n",
    "    print(v)\n",
    "print('Done !')           # Executed upon completion of the for loop\n",
    "print()"
   ]
  },
  {
   "cell_type": "code",
   "execution_count": 50,
   "metadata": {},
   "outputs": [
    {
     "name": "stdout",
     "output_type": "stream",
     "text": [
      "0          a\n",
      "1          b\n",
      "2          c\n",
      "3          d\n",
      "4          e\n",
      "5          f\n",
      "['6', '9', '12', '15', '18']\n"
     ]
    }
   ],
   "source": [
    "# Loop per le liste: \n",
    "\n",
    "for index, string in enumerate(l):    # per accedere al'indice dell'elemento, posso usare enumerate e l'unpacking che abbiamo visto prima\n",
    "    print(index, string.rjust(10))\n",
    "\n",
    "    \n",
    "# Questo è detto list comprehension. consiste nell'applicare un'operatore logico agli elementi sui quali si itera    \n",
    "numbers = range(4, 20)\n",
    "strings = [str(number) for number in numbers if not number%3]\n",
    "print(strings)"
   ]
  },
  {
   "cell_type": "code",
   "execution_count": 51,
   "metadata": {},
   "outputs": [
    {
     "name": "stdout",
     "output_type": "stream",
     "text": [
      "KEY:  ('Chloe', 'Stuart') \t\t VALUE:  (831) 758-7214\n",
      "KEY:  ('Emily', 'Windsor') \t\t VALUE:  (877) 359-8474\n",
      "KEY:  ('Sophia', 'Davidson') \t\t VALUE:  (800) 445-2854\n",
      "('Chloe', 'Stuart') \t\t (831) 758-7214\n",
      "('Emily', 'Windsor') \t\t (877) 359-8474\n",
      "('Sophia', 'Davidson') \t\t (800) 445-2854\n",
      "{'a': '1', 'b': '2', 'c': '3', 'd': '4'}\n"
     ]
    }
   ],
   "source": [
    "# Loop per i dizionari: \n",
    "\n",
    "for key, value in d.items():  # Usiamo nuovamente unpacking \n",
    "    print('KEY: ', key, '\\t\\t VALUE: ', value)\n",
    "    \n",
    "# Iterators work on keys by default\n",
    "for key in d:\n",
    "    print(key, '\\t\\t', d[key])\n",
    "    \n",
    "\n",
    "# Creare un dizionario con un loop\n",
    "d3 = {}\n",
    "for key, value in zip(list('abcd'), list('1234')):\n",
    "    d3[key] = value\n",
    "print(d3)"
   ]
  },
  {
   "cell_type": "code",
   "execution_count": 53,
   "metadata": {},
   "outputs": [
    {
     "name": "stdout",
     "output_type": "stream",
     "text": [
      "3\n",
      "4\n",
      "5\n",
      "7\n",
      "8\n",
      "9\n",
      "a\n",
      "b\n",
      "c\n"
     ]
    }
   ],
   "source": [
    "for element in [3,4,5]:           # Elements in LISTS        \n",
    "    print(element)\n",
    "for element in (7,8,9):           # Elements in TUPLES        \n",
    "    print(element)\n",
    "for char in 'abc':                # Elements in STRINGS\n",
    "    print(char)\n",
    "    \n",
    "import os.path\n",
    "path = os.path.join(os.path.curdir, \"example_data\", \"my_input.txt\")\n",
    "#for line in open(path): # Elements in FILES    \n",
    "#    print(line, end='')"
   ]
  },
  {
   "cell_type": "markdown",
   "metadata": {},
   "source": [
    "#### WHILE\n",
    "I while loop eseguono un'azionbe finchè la condizione al loro interno è vera"
   ]
  },
  {
   "cell_type": "code",
   "execution_count": 54,
   "metadata": {},
   "outputs": [
    {
     "name": "stdout",
     "output_type": "stream",
     "text": [
      "12345678910"
     ]
    }
   ],
   "source": [
    "a = 0\n",
    "while a < 10:\n",
    "    a += 1\n",
    "    print(a, end='')"
   ]
  },
  {
   "cell_type": "code",
   "execution_count": 56,
   "metadata": {},
   "outputs": [
    {
     "name": "stdout",
     "output_type": "stream",
     "text": [
      "1024.0 - 512.0 - 256.0 - 128.0 - 64.0 - 32.0 - 16.0 - 8.0 - 4.0 - 2.0 - 1.0 - "
     ]
    }
   ],
   "source": [
    "# si può anche usare un break per uscire dal loop\n",
    "\n",
    "a = 2**10\n",
    "while True:\n",
    "    print('{0:.1f}'.format(a), end=' - ')\n",
    "    a = a/2\n",
    "    if (a<1): break"
   ]
  },
  {
   "cell_type": "markdown",
   "metadata": {},
   "source": [
    "## Funzioni\n",
    "Le funzioni sono parti di codice che possono essere richiamate in ogni momento e da qualsiasi punto del codice. Possono restituire un valore oppure semplicemente modificare delle variabili.\n",
    "\n",
    "Sono molto utili perchè permettono di astrarre il codice e limitare le ripetizioni, rendendo anche il programma più facile da modificare in caso di errori.\n",
    "\n",
    "Per definire una funzione, precedo il nome della funzione con la keyword def.\n",
    "All'interno delle parentesi posso scegliere se mettere delle variabili oppure no. Di seguito vedremo alcune opzioni nel momento in cui vogliamo definire le variabili."
   ]
  },
  {
   "cell_type": "code",
   "execution_count": 58,
   "metadata": {},
   "outputs": [
    {
     "name": "stdout",
     "output_type": "stream",
     "text": [
      "1000\n",
      "100\n",
      "9\n",
      "1\n",
      "11\n"
     ]
    }
   ],
   "source": [
    "def funzione():\n",
    "    return 10**3\n",
    "\n",
    "print(funzione())\n",
    "\n",
    "def fun1(a):       # In questo modo posso passare un singolo parametro alla funzione\n",
    "    return 10**a   # La funzione restituisce un numero \n",
    "print(fun1(2))\n",
    "\n",
    "def fun2(a, b):\n",
    "    print(a + b)    # La funzione non restituisce nulla\n",
    "fun2(4, 5)\n",
    "\n",
    "def swap(a, b):\n",
    "    temp = b\n",
    "    b = a\n",
    "    a = temp\n",
    "    #  Una funzione può andare a modificare le variabili che sono state passate, ma non può modificare variabili esterne\n",
    "    # A meno che non si usi la keyword global:\n",
    "    \n",
    "x = 1\n",
    "def globale():\n",
    "    global x\n",
    "    x += 10\n",
    "\n",
    "print(x)\n",
    "globale()\n",
    "print(x)"
   ]
  },
  {
   "cell_type": "code",
   "execution_count": 60,
   "metadata": {},
   "outputs": [
    {
     "name": "stdout",
     "output_type": "stream",
     "text": [
      "-----\n",
      "*********\n"
     ]
    }
   ],
   "source": [
    "# Variabili di default: posso definire valori di default per una variabile\n",
    "# Quella fra triple virgolette è detta docstring, dovrebbe descrivere il funzionamento della funzione\n",
    "# Inoltre, posso specificare di che tipo una variabile dovrebbe essere\n",
    "def local(spacing_string:str, n=5):\n",
    "    '''Print n carriage returns\n",
    "       \"spacing_string\" must be provided\n",
    "       \"n\" can be omitted and gets the default value'''\n",
    "    # Variables defined inside functions are local\n",
    "    print(spacing_string*n)\n",
    "\n",
    "local('-')     # n = 5 (default value)\n",
    "local('*',n=9) # n = 9 (named argument)"
   ]
  },
  {
   "cell_type": "code",
   "execution_count": null,
   "metadata": {},
   "outputs": [],
   "source": []
  }
 ],
 "metadata": {
  "kernelspec": {
   "display_name": "Python 3",
   "language": "python",
   "name": "python3"
  },
  "language_info": {
   "codemirror_mode": {
    "name": "ipython",
    "version": 3
   },
   "file_extension": ".py",
   "mimetype": "text/x-python",
   "name": "python",
   "nbconvert_exporter": "python",
   "pygments_lexer": "ipython3",
   "version": "3.7.4"
  }
 },
 "nbformat": 4,
 "nbformat_minor": 2
}
