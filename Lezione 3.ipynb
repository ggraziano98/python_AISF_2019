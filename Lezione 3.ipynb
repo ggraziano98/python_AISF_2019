{
 "cells": [
  {
   "cell_type": "markdown",
   "metadata": {},
   "source": [
    "# Lezione 3\n",
    "Programma del giorno:\n",
    "- refusi\n",
    "    - pass\n",
    "    - docstrings\n",
    "    - tipi di argomento\n",
    "    - yield\n",
    "- classi\n",
    "    - cos'è una classe?\n",
    "    - user defined classes \n",
    "    - class variables, instance variables, private variables\n",
    "    - instance method, classmethod e staticmethod\n",
    "    - inheritance\n",
    "- lambda functions\n",
    "- try except, with\n",
    "- naming conventions\n",
    "\n",
    "## Refusi\n",
    "Volevo aggiungere alcune cose di cui non abbiamo parlato la scorsa volta, o che ho appena accennato a causa del tempo.\n",
    "\n",
    "pass: è una keyword che si usa quando non si vuole ancora definire una funzione. È solo un segnaposto, deve poi essere sostituita con il codice.\n",
    "\n",
    "docstrings: sono righe di commento che si mettono al di sotto di una funzione, una classe o un metodo, e ne descrivono il comportamento, gli argomenti e l'uso."
   ]
  },
  {
   "cell_type": "code",
   "execution_count": 1,
   "metadata": {},
   "outputs": [
    {
     "name": "stdout",
     "output_type": "stream",
     "text": [
      "Help on function funzione in module __main__:\n",
      "\n",
      "funzione(arg1, arg2: str, keyword='default', *args, **kwargs) -> str\n",
      "    Funzione che restituisce la stringa 'Hello, AISF'\n",
      "    \n",
      "    arg1\n",
      "        non serve a nulla\n",
      "    arg2 : str\n",
      "        anche questo inutile\n",
      "    keyword : str\n",
      "        inutilissimo, default:'default'\n",
      "    *args\n",
      "    **kwargs\n",
      "    \n",
      "    return : str\n",
      "        'Hello, AISF'\n",
      "\n"
     ]
    }
   ],
   "source": [
    "def funzione(arg1, arg2: str, keyword=\"default\", *args, **kwargs) -> str:\n",
    "    \"\"\"\n",
    "    Funzione che restituisce la stringa \\'Hello, AISF\\'\n",
    "    \n",
    "    arg1\n",
    "        non serve a nulla\n",
    "    arg2 : str\n",
    "        anche questo inutile\n",
    "    keyword : str\n",
    "        inutilissimo, default:\\'default\\'\n",
    "    *args\n",
    "    **kwargs\n",
    "    \n",
    "    return : str\n",
    "        \\'Hello, AISF'\n",
    "    \"\"\"\n",
    "    return(\"Hello, AISF\")\n",
    "\n",
    "help(funzione)"
   ]
  },
  {
   "cell_type": "markdown",
   "metadata": {},
   "source": [
    "Questo è un modo molto verboso di descrivere la funzione, ma aiuta nella comprensione del suo utilizzo. Descriveremo in modo simile anche le classi e i metodi.\n",
    "\n",
    "Come abbiamo visto già nella funzione precedente, esistono molti modi di dichiarare gli argomenti di una funzione:\n",
    "- normali argomenti, senza tipo dichiarato né default values\n",
    "- argomenti con type dichiarato (nome_argomento: type)\n",
    "- keyword arguments: argomenti con una default value, si possono richiamare non in ordine se si usa la loro keyword\n",
    "- optional arguments: permettono di aggiungere un numero arbitrario di argomenti, basta usare \\*nome_variabile\n",
    "- optional keyword arguments: come gli optional arguments, ma permettono di usare una keyword. Si dichiarano con due asterischi \\*\\*nome_variabile\n",
    "\n",
    "**I keyword arguments devono sempre essere messi dopo gli arguments**"
   ]
  },
  {
   "cell_type": "code",
   "execution_count": 2,
   "metadata": {},
   "outputs": [
    {
     "name": "stdout",
     "output_type": "stream",
     "text": [
      "Sum: 8\n",
      "Sum: 22\n",
      "Sum: 17\n",
      "\n",
      "Data type of argument: <class 'dict'>\n",
      "Firstname is Sita\n",
      "Lastname is Sharma\n",
      "Age is 22\n",
      "Phone is 1234567890\n",
      "\n",
      "Data type of argument: <class 'dict'>\n",
      "Firstname is John\n",
      "Lastname is Wood\n",
      "Email is johnwood@nomail.com\n",
      "Country is Wakanda\n",
      "Age is 25\n",
      "Phone is 9876543210\n"
     ]
    }
   ],
   "source": [
    "def adder(*num):\n",
    "    sum = 0\n",
    "    \n",
    "    # sostanzialmente funzionano come una list\n",
    "    for n in num:\n",
    "        sum = sum + n\n",
    "    print(\"Sum:\",sum)\n",
    "adder(3,5)\n",
    "adder(4,5,6,7)\n",
    "adder(1,2,3,5,6)\n",
    "\n",
    "def intro(**data):\n",
    "    print(\"\\nData type of argument:\",type(data))\n",
    "    \n",
    "    # funzionano praticamente come un dizionario\n",
    "    for key, value in data.items():\n",
    "        print(\"{} is {}\".format(key,value))\n",
    "intro(Firstname=\"Sita\", Lastname=\"Sharma\", Age=22, Phone=1234567890)\n",
    "intro(Firstname=\"John\", Lastname=\"Wood\", Email=\"johnwood@nomail.com\", Country=\"Wakanda\", Age=25, Phone=9876543210)"
   ]
  },
  {
   "cell_type": "markdown",
   "metadata": {},
   "source": [
    "Infine, introduciamo la keyword yield (\"produrre\").\n",
    "Questa è molto simile a return, ma anziché completare la funzione, yield interrompe l'esecuzione ma permette di riprenderla da dove è stata interrotta.\n",
    "Le funzioni con yield restituiscono un generatore, che può essere usato in modo simile a una lista"
   ]
  },
  {
   "cell_type": "code",
   "execution_count": 3,
   "metadata": {},
   "outputs": [
    {
     "name": "stdout",
     "output_type": "stream",
     "text": [
      "1\n",
      "2\n",
      "3\n",
      "\n",
      " 1 \n",
      "\n",
      "0\n",
      "1\n",
      "2\n",
      "3\n",
      "4\n",
      "\n",
      " 0\n"
     ]
    }
   ],
   "source": [
    "def prova_yield():\n",
    "    yield 1\n",
    "    yield 2\n",
    "    yield 3\n",
    "\n",
    "def prova_return():\n",
    "    return 1\n",
    "    # questo darebbe un errore\n",
    "    # return 2\n",
    "\n",
    "def prova_yield_2():\n",
    "    for i in range(5):\n",
    "        yield i\n",
    "\n",
    "def prova_return_2():\n",
    "    for i in range(5):\n",
    "        return(i) # non da errore, ma si interrompe al primo giro\n",
    "    \n",
    "for i in prova_yield():\n",
    "    print(i)\n",
    "print(\"\\n\", prova_return(), \"\\n\")\n",
    "for i in prova_yield_2():\n",
    "    print(i)\n",
    "print(\"\\n\", prova_return_2())\n"
   ]
  },
  {
   "cell_type": "markdown",
   "metadata": {},
   "source": [
    "# Classi\n",
    "## Cos'è una classe?\n",
    "Una classe si può vedere come un modello da utilizzare per creare nuovi oggetti.\n",
    "Solitamente vengono usate per rendere il codice flessibile e organizzato, evitando di dover scrivere più volte le stesse porzioni di codice, e dividendo il codice in porzioni più piccole e facili da leggere.\n",
    "Si può capire meglio il loro funzionamento con un esempio.\n",
    "## User defined classes\n",
    "Per un progetto abbiamo bisogno di caricare i dati di molte persone nel programma, ogni persona ha alcuni dati da impostare e dobbiamo fare alcune operazioni con le persone.\n",
    "Vogliamo perciò creare un oggetto \"Person\" che ci semplifichi la vita:"
   ]
  },
  {
   "cell_type": "code",
   "execution_count": 4,
   "metadata": {},
   "outputs": [
    {
     "name": "stdout",
     "output_type": "stream",
     "text": [
      "<__main__.Person object at 0x00000206ECCC1848>\n",
      "Alec Baldwin was born in 1958.\n"
     ]
    }
   ],
   "source": [
    "class Person():\n",
    "    pass\n",
    "\n",
    "john_doe = Person()\n",
    "john_doe.name = \"Alec\"\n",
    "john_doe.surname = \"Baldwin\"\n",
    "john_doe.year_of_birth = 1958\n",
    "\n",
    "\n",
    "print(john_doe)\n",
    "print(\"%s %s was born in %d.\" %\n",
    "      (john_doe.name, john_doe.surname, john_doe.year_of_birth))"
   ]
  },
  {
   "cell_type": "markdown",
   "metadata": {},
   "source": [
    "Questo metodo non è consigliato, perché ogni *instance* di persona dovrebbe avere circa gli stessi attributi.\n",
    "Dunque creiamo quello che si dice *costruttore*, un modello di base che usiamo per tutte le persone."
   ]
  },
  {
   "cell_type": "code",
   "execution_count": 5,
   "metadata": {},
   "outputs": [
    {
     "name": "stdout",
     "output_type": "stream",
     "text": [
      "Christian Biello was born in 1998.\n",
      "Age: 22\n"
     ]
    }
   ],
   "source": [
    "class Person:\n",
    "    class_variable = \"class variable\"\n",
    "    def __init__(self, name, surname, year):\n",
    "        self.name = name\n",
    "        self.surname = surname\n",
    "        self.year_of_birth = year\n",
    "        \n",
    "    def age(self, current_year):\n",
    "        return current_year - self.year_of_birth\n",
    "        \n",
    "pres = Person(\"Christian\", \"Biello\", 1998)\n",
    "print(\"%s %s was born in %d.\" %\n",
    "      (pres.name, pres.surname, pres.year_of_birth))\n",
    "print(\"Age: %i\"%pres.age(2020))"
   ]
  },
  {
   "cell_type": "markdown",
   "metadata": {},
   "source": [
    "Il metodo *\\_\\_init\\_\\_* è un metodo speciale di Python che viene chiamato ogni volta che viene creata una nuova *instance* di una classe. Il primo argomento di questo metodo (di solito *self*) si riferisce all'instance della classe, gli altri argomenti sono opzionali.\n",
    "\n",
    "## Variabili\n",
    "Le variabili *self.name, self.surname, self.year_of_birth* sono dette instance variables e sono variabili che dipendono dall'instance che si prende in considerazione. Per accedervi al di fuori della classe, basta usare *instance_name.variable_name*.\n",
    "\n",
    "In python solitamente le variabili sono tutte pubbliche, cioè vi si può accedere da ogni punto del codice. Se però abbiamo bisogno di nascondere una variabile, possiamo farlo usando un nome preceduto da \"\\_\\_\" oppure \"\\_\": self.\\_\\_private_variable.\n",
    "Nota: python in realtà non rende davvero questa variabile privata, solo più difficile da trovare. Volendo si può accedere a una variabile privata anche da fuori la classe.\n",
    "\n",
    "Esistono anche *class variables*, variabili che hanno lo stesso valore per ogni instance della classe, a meno che non sia esplicitamente cambiato. Queste variabili sono dichiarate fuori da tutti i metodi, come nell'esempio, e non sono precedute da *self*. Vi si può accedere da qualsiasi punto del codice, anche usando un'instance della classe:"
   ]
  },
  {
   "cell_type": "code",
   "execution_count": 6,
   "metadata": {},
   "outputs": [
    {
     "name": "stdout",
     "output_type": "stream",
     "text": [
      "class variable\n",
      "class variable\n",
      "new class variable\n"
     ]
    }
   ],
   "source": [
    "print(Person.class_variable)\n",
    "print(pres.class_variable)\n",
    "\n",
    "pres.class_variable = \"new class variable\"\n",
    "print(pres.class_variable)"
   ]
  },
  {
   "cell_type": "markdown",
   "metadata": {},
   "source": [
    "## Metodi\n",
    "Sono molto simili alle funzioni, ma sono specifici alla classe. Esistono tre tipi di metodo:\n",
    "- instance methods: sono i più comuni, si dichiarano con `def nome_metodo(self, argomenti)`. Notate il *self*, questo è sempre necessario nell'instance method, in quanto gli instance method fanno appunto riferimento all'instance che li ha richiamati\n",
    "- static mehtods: se un method non fa alcun riferimento all'instance, allora si può usare il *decoratore @staticmethod* nella dichiarazione, che indica che il metodo non ha bisogno dell'argomento self, e che può essere richiamato anche senza instances della classe\n",
    "- class methods: sono molto simili agli staticmethod, ma possono accedere alle variabili della classe. Si dichiarano con il decoratore *@classmethod* e il primo argomento (solitamente *cls*) si riferisce sempre alla classe che lo genera."
   ]
  },
  {
   "cell_type": "code",
   "execution_count": 7,
   "metadata": {},
   "outputs": [
    {
     "name": "stdout",
     "output_type": "stream",
     "text": [
      "\n",
      "instance_method\n",
      "Class variable\n",
      "15\n",
      "\n",
      "class_method\n",
      "Class variable\n",
      "\n",
      "static_method\n",
      "15\n",
      "\n",
      "class_method\n",
      "Class variable\n",
      "\n",
      "static_method\n",
      "15\n"
     ]
    }
   ],
   "source": [
    "class Example():\n",
    "    class_var = \"Class variable\"\n",
    "    \n",
    "    def __init__(self, a, b):\n",
    "        self.a = a\n",
    "        self.b = b\n",
    "    \n",
    "    def instance_method(self):\n",
    "        print(\"\\ninstance_method\")\n",
    "        print(self.class_var)\n",
    "        print(self.a + self.b)\n",
    "    \n",
    "    @classmethod\n",
    "    def class_method(cls):\n",
    "        print(\"\\nclass_method\")\n",
    "        print(cls.class_var)\n",
    "        \n",
    "    @staticmethod\n",
    "    def static_method(par1, par2):\n",
    "        print(\"\\nstatic_method\")\n",
    "        # print(class_var) da errore\n",
    "        print(par1 + par2)\n",
    "        \n",
    "e = Example(6, 9)\n",
    "e.instance_method()\n",
    "e.class_method()\n",
    "e.static_method(6, 9)\n",
    "\n",
    "# Example.instance_method() da errore\n",
    "Example.class_method()\n",
    "Example.static_method(6,9)"
   ]
  },
  {
   "cell_type": "markdown",
   "metadata": {},
   "source": [
    "## Magic methods\n",
    "Sono un particolare tipo di instance method che viene richiamato ogni volta che si usa un particolare operatore. \n",
    "Questi metodi sono definiti con \\_\\_method_name\\_\\_, dove method_name dipende dall'operatore che vogliamo definire."
   ]
  },
  {
   "cell_type": "code",
   "execution_count": 8,
   "metadata": {},
   "outputs": [
    {
     "name": "stdout",
     "output_type": "stream",
     "text": [
      "3\n",
      "True\n",
      "False\n",
      "x: 0, y: 4, z: 3\n"
     ]
    }
   ],
   "source": [
    "class Vector3():\n",
    "    def __init__(self, x, y, z):\n",
    "        self.x = x \n",
    "        self.y = y\n",
    "        self.z = z\n",
    "    \n",
    "    def __len__(self):\n",
    "        return 3 # len deve essere un intero. Usiamo la dimensione\n",
    "    \n",
    "    def __eq__(self, other):\n",
    "        return self.x == other.x and self.y == other.y and self.z == other.z\n",
    "    \n",
    "    def __str__(self):\n",
    "        s = \"x: %d, y: %d, z: %d\" \\\n",
    "            % (self.x, self.y, self.z)\n",
    "        return s\n",
    "        \n",
    "v = Vector3(0, 4, 3)\n",
    "print(len(v))\n",
    "print(v == Vector3(0, 4, 3))\n",
    "print(v == Vector3(0, 3, 4))\n",
    "print(v)"
   ]
  },
  {
   "cell_type": "markdown",
   "metadata": {},
   "source": [
    "Una lista di tutti i magic methods può essere trovata su [questo](https://rszalski.github.io/magicmethods/) sito.\n",
    "\n",
    "## Inheritance\n",
    "Un concetto fondamentale per usare al meglio le classi è quello di *inheritance*, o gerarchia.\n",
    "Una classe si dice *child class* di una *parent class* se eredita da essa.\n",
    "La child class eredita tutte le variabili, sia class variables che instance variables, e tutti i metodi della parent class.\n",
    "Inoltre, le instances della child class sono considerate instance della parent class."
   ]
  },
  {
   "cell_type": "code",
   "execution_count": 9,
   "metadata": {},
   "outputs": [
    {
     "name": "stdout",
     "output_type": "stream",
     "text": [
      "Chris Pratt was born in 1979.\n",
      "Umberto Fo was born in 1998.\n",
      "Anno: 3, media: 30\n",
      "110.0\n"
     ]
    }
   ],
   "source": [
    "class Student(Person): # In questo modo definiamo una classe studente che eredita da Person\n",
    "    def __init__(self, name, surname, year_of_birth, anno_di_studi, media):\n",
    "        super().__init__(name, surname, year_of_birth)  # la funzione super restituisce la parent class\n",
    "        self.anno_di_studi = anno_di_studi\n",
    "        self.media = media\n",
    "        \n",
    "    def voto_laurea(self):\n",
    "        return self.media*110/30\n",
    "    \n",
    "person = Person(\"Chris\", \"Pratt\", 1979)\n",
    "student = Student(\"Umberto\", \"Fo\", 1998, 3, 30)\n",
    "\n",
    "print(\"%s %s was born in %d.\" %\n",
    "      (person.name, person.surname, person.year_of_birth))\n",
    "\n",
    "print(\"%s %s was born in %d.\" %\n",
    "      (student.name, student.surname, student.year_of_birth))\n",
    "print(\"Anno: %i, media: %d\" %(student.anno_di_studi, student.media))\n",
    "print(student.voto_laurea())"
   ]
  },
  {
   "cell_type": "code",
   "execution_count": 10,
   "metadata": {},
   "outputs": [
    {
     "name": "stdout",
     "output_type": "stream",
     "text": [
      "True\n",
      "False\n",
      "True\n",
      "\n",
      "True\n",
      "False\n",
      "True\n",
      "\n",
      "True\n",
      "True\n",
      "True\n"
     ]
    }
   ],
   "source": [
    "class Parent():\n",
    "    pass\n",
    "\n",
    "class Sibling1(Parent):\n",
    "    pass\n",
    "\n",
    "class Sibling2(Parent):\n",
    "    pass\n",
    "\n",
    "class Child(Sibling1):\n",
    "    pass\n",
    "\n",
    "# Double Inheritance!\n",
    "class DoubleChild(Sibling1, Sibling2):\n",
    "    pass\n",
    "\n",
    "s1 = Sibling1()\n",
    "c = Child()\n",
    "doublec = DoubleChild()\n",
    "\n",
    "print(isinstance(s1, Sibling1))\n",
    "print(isinstance(s1, Sibling2))\n",
    "print(isinstance(s1, Parent))\n",
    "print()\n",
    "print(isinstance(c, Sibling1))\n",
    "print(isinstance(c, Sibling2))\n",
    "print(isinstance(c, Parent))\n",
    "print()\n",
    "print(isinstance(doublec, Sibling1))\n",
    "print(isinstance(doublec, Sibling2))\n",
    "print(isinstance(doublec, Parent))"
   ]
  },
  {
   "cell_type": "markdown",
   "metadata": {},
   "source": [
    "Una classe può anche modificare i metodi definiti dal parent. Questo si chiama override"
   ]
  },
  {
   "cell_type": "code",
   "execution_count": 11,
   "metadata": {},
   "outputs": [
    {
     "name": "stdout",
     "output_type": "stream",
     "text": [
      "1920\n"
     ]
    }
   ],
   "source": [
    "# ridefiniamo Student per far vedere un override\n",
    "\n",
    "class Student(Person):\n",
    "    def __init__(self, name, surname, year_of_birth, anno_di_studi, media):\n",
    "        super().__init__(name, surname, year_of_birth)  \n",
    "        self.anno_di_studi = anno_di_studi\n",
    "        self.media = media\n",
    "        \n",
    "    def voto_laurea(self):\n",
    "        return self.media*110/30\n",
    "    \n",
    "    # Overridiamo la definizione di age\n",
    "    def age(self, current_year):\n",
    "        return current_year - 100\n",
    "    \n",
    "s = Student(\"John\", \"Doe\", 1960, 6, 18)\n",
    "print(s.age(2020))"
   ]
  },
  {
   "cell_type": "markdown",
   "metadata": {},
   "source": [
    "## Lambda functions\n",
    "Sono un modo di semplificare la sintassi nel caso in cui ci serva una funzione solo per un breve periodo.\n",
    "Solitamente si usano quando usiamo una funzione che prende come argomento un'altra funzione, come le funzioni sort() e filter().\n",
    "Si definiscono come `lambda arguments: expression`. Nota che è come se ci fosse un `return` implicito."
   ]
  },
  {
   "cell_type": "code",
   "execution_count": 12,
   "metadata": {},
   "outputs": [
    {
     "name": "stdout",
     "output_type": "stream",
     "text": [
      "10\n",
      "16\n",
      "\n",
      "[4, 6, 8, 12]\n",
      "\n",
      "Alberto: 20\n",
      "Pippo: 18\n",
      "Gina: 25\n",
      "Sam: 30\n",
      "\n",
      "Alberto: 20\n",
      "Gina: 25\n",
      "Pippo: 18\n",
      "Sam: 30\n",
      "\n",
      "Pippo: 18\n",
      "Alberto: 20\n",
      "Gina: 25\n",
      "Sam: 30\n"
     ]
    }
   ],
   "source": [
    "# Posso definire una funzione usando una lambda expression. raddoppia e raddoppia_funz sono quasi identiche\n",
    "raddoppia = lambda x: 2*x\n",
    "def raddoppia_funz(x):\n",
    "    return 2*x\n",
    "print(raddoppia(5))\n",
    "print(raddoppia_funz(8))\n",
    "print() \n",
    "\n",
    "# Esepio di lambda con filter\n",
    "my_list = [1, 5, 4, 6, 8, 11, 3, 12]\n",
    "# Filter prende una funzione il cui return è interpretabile come un bool\n",
    "# Oss: un numero viene interpretato come true se è diverso da 0\n",
    "# una string viene interpretata come true se è diversa da \"\"\n",
    "new_list = list(filter(lambda x: (x%2 == 0) , my_list))\n",
    "print(new_list)\n",
    "print()\n",
    "\n",
    "# Le lambda expression possono essere usate per riordinare rispetto a diverse variabili di un oggetto\n",
    "class Student():\n",
    "    def __init__(self, nome, media):\n",
    "        self.nome = nome\n",
    "        self.media = media\n",
    "        \n",
    "    def __str__(self):\n",
    "        return \"%s: %i\" % (self.nome, self.media)\n",
    "        \n",
    "l = [Student(\"Alberto\", 20), Student(\"Pippo\", 18), Student(\"Gina\", 25), Student(\"Sam\", 30)]\n",
    "for s in l:\n",
    "    print(s)\n",
    "    \n",
    "print()\n",
    "l.sort(key=lambda s: s.nome)\n",
    "for s in l:\n",
    "    print(s)\n",
    "    \n",
    "print()\n",
    "l.sort(key=lambda s: s.media)\n",
    "for s in l:\n",
    "    print(s)"
   ]
  },
  {
   "cell_type": "markdown",
   "metadata": {},
   "source": [
    "## Try except\n",
    "Capita a volte di avere blocchi di codice che possono dare errori, per vari motivi.\n",
    "In questo caso si usa la keyword `try:` questo apre un blocco di codice che viene eseguito finché non si incontra un errore.\n",
    "\n",
    "Se vi è un errore, allora si apre il blocco `except:`. Quello che viene scritto in questo blocco quindi viene eseguito solo se c'è un errore. Se si aggiunge un `else:` dopo questo blocco, si apre un blocco che viene eseguito solo se non ci sono stati errori.\n",
    "\n",
    "Se vi sono operazioni che devono sempre essere eseguite alla fine del blocco, si può aggiungere un blocco `finally:`.\n",
    "\n",
    "Vediamo un esempio"
   ]
  },
  {
   "cell_type": "code",
   "execution_count": 13,
   "metadata": {},
   "outputs": [
    {
     "name": "stdout",
     "output_type": "stream",
     "text": [
      "Nessun errore\n",
      "Divisione finita\n",
      "5.0\n",
      "Divisione finita\n",
      "name 'a' is not defined\n",
      "Divisione finita\n",
      "Non si può dividere per zero\n"
     ]
    }
   ],
   "source": [
    "def div(a, b):\n",
    "    return a/b\n",
    "\n",
    "\n",
    "try:\n",
    "    r = div(10,2)\n",
    "except ZeroDivisionError:\n",
    "    r = \"Non si può dividere per zero\"\n",
    "except Exception as e:\n",
    "    r = e\n",
    "else:\n",
    "    print(\"Nessun errore\")\n",
    "finally:\n",
    "    print(\"Divisione finita\")\n",
    "print(r)\n",
    "\n",
    "try:\n",
    "    r = div(a, 2)\n",
    "except ZeroDivisionError:\n",
    "    r = \"Non si può dividere per zero\"\n",
    "except Exception as e:\n",
    "    r = e\n",
    "else:\n",
    "    print(\"Nessun errore\")\n",
    "finally:\n",
    "    print(\"Divisione finita\")\n",
    "print(r)\n",
    "\n",
    "try:\n",
    "    r = div(10, 0)\n",
    "except ZeroDivisionError:\n",
    "    r = \"Non si può dividere per zero\"\n",
    "except Exception as e:\n",
    "    r = e\n",
    "else:\n",
    "    print(\"Nessun errore\")\n",
    "finally:\n",
    "    print(\"Divisione finita\")\n",
    "print(r)"
   ]
  },
  {
   "cell_type": "markdown",
   "metadata": {},
   "source": [
    "Posso usare la keyword `raise` per dichiarare un nuovo errore:"
   ]
  },
  {
   "cell_type": "code",
   "execution_count": 14,
   "metadata": {},
   "outputs": [
    {
     "name": "stdout",
     "output_type": "stream",
     "text": [
      "20\n",
      "<class '__main__.LenError'>\n",
      "Vettori di dimensione diversa\n",
      "<class 'TypeError'>\n",
      "unsupported operand type(s) for +=: 'int' and 'str'\n"
     ]
    }
   ],
   "source": [
    "class LenError(Exception):\n",
    "    message = \"Vettori di dimensione diversa\"\n",
    "    def __str__(self):\n",
    "        return self.message\n",
    "\n",
    "def vector_dot(a, b):\n",
    "    if len(a) != len(b):\n",
    "        raise LenError()\n",
    "    r = 0\n",
    "    for i in range(len(a)):\n",
    "        r += a[i]*b[i]\n",
    "    print(r)\n",
    "        \n",
    "try:\n",
    "    vector_dot([1, 1, 3], [2, 3, 5])\n",
    "except Exception as e:\n",
    "    print(type(e))\n",
    "    print(e)\n",
    "try:\n",
    "    vector_dot([1, 3], [2, 3, 5])\n",
    "except Exception as e:\n",
    "    print(type(e))\n",
    "    print(e)\n",
    "try:\n",
    "    vector_dot([1, \"a\", 3], [2, 3, 5])\n",
    "except Exception as e:\n",
    "    print(type(e))\n",
    "    print(e)\n",
    "    "
   ]
  },
  {
   "cell_type": "markdown",
   "metadata": {},
   "source": [
    "Solitamente il blocco `finally:` è utilizzato per chiudere le risorse utilizzate, ad esempio quando apriamo un file.\n",
    "Vi è però un modo più comodo di fare questo: usare il blocco `with:`. Questo blocco usa automaticamente le regole di chiusura di una risorsa alla fine del blocco:"
   ]
  },
  {
   "cell_type": "code",
   "execution_count": 15,
   "metadata": {},
   "outputs": [
    {
     "name": "stdout",
     "output_type": "stream",
     "text": [
      "Hello, AISF\n",
      "\n",
      "Goodbye, AISF"
     ]
    }
   ],
   "source": [
    "with open(\"myfile.txt\") as f:\n",
    "    for line in f:\n",
    "        print(line, end=\"\")"
   ]
  },
  {
   "cell_type": "markdown",
   "metadata": {},
   "source": [
    "È importante chiudere le risorse per evitare di usare memoria inutile.\n",
    "## Naming conventions\n",
    "Talvolta capita di sentire il termine *Pythonic*. Questo si riferisce a un codice scritto in modo da seguire alcune convenzioni che rendono il codice più leggibile e facile da riutilizzare.\n",
    "Queste regole sono descritte in *The Zen of Python*, al quale si può accedere in ogni momento scrivendo `import this`"
   ]
  },
  {
   "cell_type": "code",
   "execution_count": 16,
   "metadata": {},
   "outputs": [
    {
     "name": "stdout",
     "output_type": "stream",
     "text": [
      "The Zen of Python, by Tim Peters\n",
      "\n",
      "Beautiful is better than ugly.\n",
      "Explicit is better than implicit.\n",
      "Simple is better than complex.\n",
      "Complex is better than complicated.\n",
      "Flat is better than nested.\n",
      "Sparse is better than dense.\n",
      "Readability counts.\n",
      "Special cases aren't special enough to break the rules.\n",
      "Although practicality beats purity.\n",
      "Errors should never pass silently.\n",
      "Unless explicitly silenced.\n",
      "In the face of ambiguity, refuse the temptation to guess.\n",
      "There should be one-- and preferably only one --obvious way to do it.\n",
      "Although that way may not be obvious at first unless you're Dutch.\n",
      "Now is better than never.\n",
      "Although never is often better than *right* now.\n",
      "If the implementation is hard to explain, it's a bad idea.\n",
      "If the implementation is easy to explain, it may be a good idea.\n",
      "Namespaces are one honking great idea -- let's do more of those!\n"
     ]
    }
   ],
   "source": [
    "import this"
   ]
  },
  {
   "cell_type": "markdown",
   "metadata": {},
   "source": [
    "Abbiamo già visto alcune regole comuni, ma riassumo qui le principali:\n",
    "- no semicolon\n",
    "- uno statement per riga\n",
    "- indent di 4 spazi, senza usare mix di tab e spazi\n",
    "- import: uno per riga, senza usare import \\*, sempre in cima. Ordine:\n",
    "    - Standard library\n",
    "    - Third party\n",
    "    - Local\n",
    "- No spazio dopo le parentesi, non prima di `, ; :` ma sempre dopo\n",
    "- Spazio intorno agli operatori, a meno che non sia l'operatore keyword=x nel keyword argument di una funzione\n",
    "- Nomi: \n",
    "    - object naming: module_name, package_name, ClassName, method_name, ExceptionName, function_name, GLOBAL_CONSTANT_NAME, global_var_name, instance_var_name, function_parameter_name, local_var_name.\n",
    "    - avoid single character names except for counters or iterators\n",
    "    - avoid dashes (-) in any package/module name\n",
    "    - \\_\\_double_leading_and_trailing_underscore names (reserved by Python)\n",
    "- Non scambiare variabili usando temporanee, usa i tuples: `(a, b) = (b, a)`\n",
    "- Non comparare booleane usando `if booleana == true`: usa `if booleana:` oppure `if not booleana`"
   ]
  }
 ],
 "metadata": {
  "kernelspec": {
   "display_name": "Python 3",
   "language": "python",
   "name": "python3"
  },
  "language_info": {
   "codemirror_mode": {
    "name": "ipython",
    "version": 3
   },
   "file_extension": ".py",
   "mimetype": "text/x-python",
   "name": "python",
   "nbconvert_exporter": "python",
   "pygments_lexer": "ipython3",
   "version": "3.7.4"
  }
 },
 "nbformat": 4,
 "nbformat_minor": 2
}
