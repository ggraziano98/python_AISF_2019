{
 "cells": [
  {
   "cell_type": "markdown",
   "metadata": {},
   "source": [
    "# Lezione 1"
   ]
  },
  {
   "cell_type": "markdown",
   "metadata": {},
   "source": [
    "Benvenuti!"
   ]
  },
  {
   "cell_type": "markdown",
   "metadata": {},
   "source": [
    "![ChessUrl](https://66.media.tumblr.com/tumblr_m55rvgCkqq1r6r6i7o1_400.gifv \"Welcome\")"
   ]
  },
  {
   "cell_type": "markdown",
   "metadata": {},
   "source": [
    "Programma della prima lezione:\n",
    "- Installazione environment Anaconda\n",
    "- Introduzione ai notebook \n",
    "- Perché studiare python? \n",
    "- Hello, AISF!\n",
    "- Introduzione alle variabili \n",
    "\n",
    "**Contatti**\n",
    "\n",
    "Io: giovanni.graziano@hotmail.it\n",
    "\n",
    "Pres: christian.biello@ai-sf.it"
   ]
  },
  {
   "cell_type": "markdown",
   "metadata": {},
   "source": [
    "## Installazione Anaconda"
   ]
  },
  {
   "cell_type": "markdown",
   "metadata": {},
   "source": [
    "La procedura è molto semplice:\n",
    "•\tAndate alla sezione download di Anaconda: https://www.anaconda.com/distribution/\n",
    "•\tScaricate l’installer per Python 3.7, nella versione 64 o 32 bit a seconda del vostro sistema operativo\n",
    "•\tAprite l’installer e seguite le istruzioni\n",
    "\n",
    "![Image of Installer](https://miro.medium.com/max/666/1*7a9zVyGP3iMXu9aB4e_Vhw.png)\n",
    "\n",
    "Di fronte a questa schermata, selezionate entrambe le caselle se non avete mai installato una distribuzione di python\n",
    "\n",
    "Se invece avete già una versione di python installata, dovrete aggiungere alle Environment Variablles I file Anaconda3\\python.exe e Anaconda3\\Scripts\\conda.exe (dove Anaconda3 è la cartella in cui avete installato Anaconda).\n",
    " \n",
    "Per verificare che l’installazione sia andata a buon fine, aprite il terminale e lanciate il comando “conda info”."
   ]
  },
  {
   "cell_type": "markdown",
   "metadata": {},
   "source": [
    "## Introduzione ai notebook \n",
    "Anaconda offre la possibilità di utilizzare Jupyter Notebook, che sono environment interattivi in cui si possono alternare:\n",
    "- Celle di testo che possono essere formattate usando [Markdown syntax](https://daringfireball.net/projects/markdown/syntax)\n",
    "- Righe di codice che vengono eseguite premendo Shift+Enter. Questo crea anche una nuova riga di codice subito sotto"
   ]
  },
  {
   "cell_type": "code",
   "execution_count": 3,
   "metadata": {},
   "outputs": [
    {
     "data": {
      "text/plain": [
       "4"
      ]
     },
     "execution_count": 3,
     "metadata": {},
     "output_type": "execute_result"
    }
   ],
   "source": [
    "2+2"
   ]
  },
  {
   "cell_type": "markdown",
   "metadata": {},
   "source": [
    "Alternativamente si può usare Ctrl+Enter. In questo modo la riga viene eseguita ma il cursore viene posto di nuovo nella cella che è stata eseguita\n",
    "\n",
    "Jupyter rende i programmi di Python molto interattivi e facili da visualizzare, soprattutto grazie alle librerie di MatPlotLib e iPyWidgets, e per questo motivo è ampiamente utilizzato nel mondo della ricerca scientifica e analisi dati "
   ]
  },
  {
   "cell_type": "markdown",
   "metadata": {},
   "source": [
    "## Perché studiare Python?\n",
    "In pochissimo tempo è diventato uno dei linguaggi di programmazione più utilizzati in svariati ambiti, ma in particolare nel Data Science e Machine Learning:\n",
    "![Image of Python vs R](https://www.kdnuggets.com/images/python-r-other-2016-2017.jpg)\n",
    "\n",
    "Python è estremamente flessibile, perciò viene utilizzato anche in svariati altri ambiti:\n",
    "- script per automatizzare il proprio lavoro e diventare più efficienti (consiglio [questo sito](https://automatetheboringstuff.com/#toc) se siete in cerca di idee)\n",
    "- applicazioni desktop\n",
    "- manipolazione di database\n",
    "- backend di pagine web e applicazioni Android e iOS\n",
    "- sviluppo di reti \n",
    "\n",
    "Open source, quindi gratuito da usare, e con una community molto ampia e pronta ad aiutare([stackoverflow](https://stackoverflow.com) is your friend). Offre numerose librerie che semplificheranno moltissimo il vostro lavoro.\n",
    "\n",
    "Inoltre, come (spero) noterete, è molto facile da imparare grazie alla sua sintassi semplificata, la quale lo rende anche il linguaggio più veloce da scrivere, riducendo di molto i tempi di sviluppo delle applicazioni.\n",
    "Purtroppo questo fatto porta con sé un rallentamento dell'esecuzione del codice."
   ]
  },
  {
   "cell_type": "markdown",
   "metadata": {},
   "source": [
    "## Hello, AISF!\n",
    "A questo punto siamo pronti a scrivere le nostre prime righe di codice, per cui inizieremo, ovviamente, con"
   ]
  },
  {
   "cell_type": "code",
   "execution_count": 6,
   "metadata": {},
   "outputs": [
    {
     "name": "stdout",
     "output_type": "stream",
     "text": [
      "Hello\tAISF!\n"
     ]
    }
   ],
   "source": [
    "print(\"Hello, AISF!\")"
   ]
  },
  {
   "cell_type": "markdown",
   "metadata": {},
   "source": [
    "In questo esempio, ```\"Hello, AISF!\"``` è una _string_.\n",
    "Una string è sempre circondata ```\"``` oppure ```'```, e al suo interno può contenere una qualsiasi combinazione di lettere, numeri e simboli (le vedremo nel dettaglio più avanti).\n",
    "\n",
    "### Python basics\n",
    "Prima di procedere, ci sono alcuni concetti di base di python che sono importanti da capire:\n",
    "- python è interpretato, quindi non deve essere compilato\n",
    "- **gli spazi fanno parte della sintassi**\n",
    "- python ha alcune strutture di base:\n",
    "    - operatori matematici (+, -, log...)\n",
    "    - data type di alto livello (string, list, dict...)\n",
    "    - operatori logici (if, else, for, while...)\n",
    "    - strutture per organizzare il codice (classi, funzioni, moduli...)\n",
    "- non è necessario dichiarare una variabile prima di usarla: in Java scriveremmo\n",
    "    ```int i; i = 0;```\n",
    "    in python è sufficiente ```i = 0```\n",
    "- andare a capo corrisponde a un nuovo comando, non è necessario il \";\" (anzi, è considerato \"bad practice\")\n",
    "\n",
    "Possiamo ora iniziare a parlare più nel dettaglio di \n",
    "## Variabili\n",
    "Tutte le variabili sono _oggetti_, che sono il mattoncino di base di python. \n",
    "Ogni oggetto è caratterizzato da:\n",
    "- un id unico e non modificabile. Se due oggetti hanno lo stesso id, allora non sono altro che nomi diversi per la stessa variabile\n",
    "- un type che determina valori possibili e operazioni che si possono svolgere sull'oggetto. Anche questo non è modificabile\n",
    "- il valore dell'oggetto. Questo è modificabile solo se l'oggetto è di un tipo mutabile. Se un oggetto non è mutabile, associare un nuovo valore corrisponde a creare un nuovo oggetto, e perciò cambiare id"
   ]
  },
  {
   "cell_type": "code",
   "execution_count": 10,
   "metadata": {},
   "outputs": [
    {
     "name": "stdout",
     "output_type": "stream",
     "text": [
      "8 8 140705927307888 140705927307888\n"
     ]
    }
   ],
   "source": [
    "# Questo è un commento\n",
    "# se uso d = a, d e a punteranno entrambe alla stessa cella di memoria\n",
    "a = 8\n",
    "d = a\n",
    "print(a, d, id(a), id(d))"
   ]
  },
  {
   "cell_type": "code",
   "execution_count": 11,
   "metadata": {},
   "outputs": [
    {
     "name": "stdout",
     "output_type": "stream",
     "text": [
      "8 3 140705927307888 140705927307728\n"
     ]
    }
   ],
   "source": [
    "# Riassegnando d a un nuovo valore, ne creo una nuova instance, perciò non modifico a:\n",
    "d = 3\n",
    "print(a, d, id(a), id(d))"
   ]
  },
  {
   "cell_type": "code",
   "execution_count": 13,
   "metadata": {},
   "outputs": [
    {
     "name": "stdout",
     "output_type": "stream",
     "text": [
      "[1, 10, 3] [1, 10, 3] 1894862019976 1894862019976\n"
     ]
    }
   ],
   "source": [
    "# Se invece uso una lista, cambiando un valore della lista 2 camio il valore anche nella lista 1:\n",
    "list_1 = [1,2,3]\n",
    "list_2 = list_1\n",
    "list_2[1] = 10\n",
    "print(list_1, list_2, id(list_1), id(list_2))"
   ]
  },
  {
   "cell_type": "markdown",
   "metadata": {},
   "source": [
    "Questo avviene perché gli int sono immutabili, mentre le liste sono mutabili\n",
    "### String\n",
    "Come abbiamo già visto, le string sono definite usando \"\" o ''.\n",
    "Le liste sono immutabili:"
   ]
  },
  {
   "cell_type": "code",
   "execution_count": 21,
   "metadata": {},
   "outputs": [
    {
     "name": "stdout",
     "output_type": "stream",
     "text": [
      "hello 1894862942320\n",
      "goodbye 1894863004208\n"
     ]
    }
   ],
   "source": [
    "a = \"hello\"\n",
    "print(a, id(a))\n",
    "\n",
    "a = \"goodbye\"\n",
    "print(a, id(a))"
   ]
  },
  {
   "cell_type": "markdown",
   "metadata": {},
   "source": [
    "Per inserire alcuni caratteri speciali, è necessario usare \"\\\", che è detto _escape character_."
   ]
  },
  {
   "cell_type": "code",
   "execution_count": 8,
   "metadata": {},
   "outputs": [
    {
     "name": "stdout",
     "output_type": "stream",
     "text": [
      "Hello\tAISF!\n",
      "Hello\n",
      "AISF!\n",
      "Hello\\AISF!\n",
      "It's me, Mario\n"
     ]
    }
   ],
   "source": [
    "print(\"Hello\\tAISF!\") #\\t = Tab\n",
    "print(\"Hello\\nAISF!\") #\\n = A capo\n",
    "print(\"Hello\\\\AISF!\") #\\\\ = \\\n",
    "print(\"It\\'s me, Mario\") # per inserire ' oppure \" devo usare il backslash"
   ]
  },
  {
   "cell_type": "markdown",
   "metadata": {},
   "source": [
    "Bisogna utilizzare \\' e \\\" per inserire apostrofo e virgolette perché questi sono i due caratteri che indicano l'inizio e la fine di una string\n",
    "Se si usano tre virgolette o apostrofi per aprire la string, si inizia una multiline string:"
   ]
  },
  {
   "cell_type": "code",
   "execution_count": 19,
   "metadata": {},
   "outputs": [
    {
     "name": "stdout",
     "output_type": "stream",
     "text": [
      "Lorem ipsum dolor sit amet, \n",
      "consectetur adipiscing elit, \n",
      "sed do eiusmod tempor incididunt \n",
      "ut labore et dolore magna aliqua.\n"
     ]
    }
   ],
   "source": [
    "s = \"\"\"Lorem ipsum dolor sit amet, \n",
    "consectetur adipiscing elit, \n",
    "sed do eiusmod tempor incididunt \n",
    "ut labore et dolore magna aliqua.\"\"\"\n",
    "\n",
    "print(s)"
   ]
  },
  {
   "cell_type": "code",
   "execution_count": 16,
   "metadata": {},
   "outputs": [
    {
     "name": "stdout",
     "output_type": "stream",
     "text": [
      "LoremIpsum\n",
      "LoremLoremLoremLoremLorem\n"
     ]
    }
   ],
   "source": [
    "# Le string possono essere sommate:\n",
    "a = \"Lorem\"\n",
    "b = \"Ipsum\"\n",
    "print(a+b)\n",
    "\n",
    "# Oppure moltiplicate:\n",
    "print(a*5)"
   ]
  },
  {
   "cell_type": "code",
   "execution_count": 20,
   "metadata": {},
   "outputs": [
    {
     "name": "stdout",
     "output_type": "stream",
     "text": [
      "True\n",
      "r\n",
      "ompmo\n"
     ]
    }
   ],
   "source": [
    "# Per controllare se un carattere è contenuto in una stringa si usa la keyword in:\n",
    "print(\"rem\" in a)\n",
    "\n",
    "# Si può anche accedere a un carattere in una particolare posizione \n",
    "# !si parte a contare da 0!:\n",
    "print(a[2])\n",
    "\n",
    "# Oppure a una parte della stringa, usando il formato string[start:end:gap]\n",
    "# Questo si chiama slicing\n",
    "print(s[1:15:3])"
   ]
  },
  {
   "cell_type": "markdown",
   "metadata": {},
   "source": [
    "Ci sono moltissimi altri comandi che si possono usare sulle stringhe. \n",
    "Usate a.strip? per scoprire cosa fa, oppure selezionate a.strip( e premete Shift+Tab per visualizzare il suo _docstring_\n",
    "\n",
    "**Provate a usare questi comandi**"
   ]
  },
  {
   "cell_type": "code",
   "execution_count": 18,
   "metadata": {},
   "outputs": [
    {
     "name": "stdout",
     "output_type": "stream",
     "text": [
      "abcdefβγδ♻_gh\n",
      "ABCDEFΒΓΔ♻_GH\n",
      "Abcdefβγδ♻_Gh\n",
      "========abcdefβγδ♻_gh=========\n",
      "2\n",
      "['abcdefβγδ♻', 'gh']\n",
      "abcdefβγδ♻gh\n",
      "one *** two *** three\n"
     ]
    }
   ],
   "source": [
    "c = '\\t abcdefβγδ♻_gh \\n '.strip()\n",
    "print(c)                                     # 'abcdefβγδ♻_gh'\n",
    "print(c.upper())                             # 'ABCDEFΒΓΔ♻_GH'\n",
    "print(c.title())                             # 'Abcdefβγδ♻_Gh'\n",
    "print(c.center(30,'='))                      # '========abcdefβγδ♻_gh========='\n",
    "print(c.find('c'))                           # 2 (index start from zero)\n",
    "print(c.split('_'))                          # ['abcdefβγδ♻', 'gh']\n",
    "print(c.replace('_',''))                     # 'abcdefβγδ♻gh'\n",
    "print(' *** '.join(['one', 'two', 'three'])) # one *** two *** three"
   ]
  },
  {
   "cell_type": "markdown",
   "metadata": {},
   "source": [
    "Un modo molto comodo di formattare le stringhe è usare il metodo .format():"
   ]
  },
  {
   "cell_type": "code",
   "execution_count": 22,
   "metadata": {},
   "outputs": [
    {
     "name": "stdout",
     "output_type": "stream",
     "text": [
      "First Argument: 47.99 --- second one: 11.55\n",
      "First Argument: 47.99 --- second one: 11.55\n",
      "First Argument: 11.55 --- second one: 47.99\n"
     ]
    }
   ],
   "source": [
    "print('First Argument: {} --- second one: {}'.format(47.99, 11.55))\n",
    "print('First Argument: {0} --- second one: {1}'.format(47.99, 11.55))\n",
    "print('First Argument: {1} --- second one: {0}'.format(47.99, 11.55))"
   ]
  },
  {
   "cell_type": "markdown",
   "metadata": {},
   "source": [
    "Si possono aggiungere indicazioni su come formattare usando questa tavola di conversione:\n",
    "\n",
    "- d Signed integer decimal.\n",
    "- i Signed integer decimal.\n",
    "- o Unsigned octal.\n",
    "- u Unsigned decimal.\n",
    "- x Unsigned hexadecimal (lowercase).\n",
    "- X Unsigned hexadecimal (uppercase).\n",
    "- e Floating point exponential format (lowercase).\n",
    "- E Floating point exponential format (uppercase).\n",
    "- f Floating point decimal format.\n",
    "- F Floating point decimal format.\n",
    "- g Same as \"e\" if exponent is greater than -4 or less than precision, \"f\" otherwise.\n",
    "- G Same as \"E\" if exponent is greater than -4 or less than precision, \"F\" otherwise.\n",
    "- c Single character (accepts integer or single character string).\n",
    "- r String (converts any python object using repr()).\n",
    "- s String (converts any python object using str()).\n",
    "- % No argument is converted, results in a \"%\" character in the result.\n",
    "\n",
    "Flags:\n",
    "\n",
    "- \"#\" Used with o, x or X specifiers the value is preceded with 0, 0o, 0O, 0x or 0X respectively.\n",
    "- \"0\" The conversion result will be zero padded for numeric values.\n",
    "- \"-\" The converted value is left adjusted\n",
    "- \" \" If no sign (minus sign e.g.) is going to be written, a blank space is inserted before the value.\n",
    "- \"+\" A sign character (\"+\" or \"-\") will precede the conversion (overrides a \"space\" flag)."
   ]
  },
  {
   "cell_type": "code",
   "execution_count": 23,
   "metadata": {},
   "outputs": [
    {
     "name": "stdout",
     "output_type": "stream",
     "text": [
      "Signed Integer Decimal:                                  12222\n",
      "Signed Integer Decimal with thousands separator:        12,222\n",
      "Signed Integer Decimal padded with zeroes:        000000012222\n",
      "Signed Integer Decimal padded with zeroes signed: +00000012222\n",
      "Signed Integer Decimal leading space if positive:  00000012222\n",
      "Signed Integer Decimal aligned to the left:       12222       \n",
      "Signed Integer Decimal centered:                     12222    \n",
      "Floating point decimal format:                        12222.00\n",
      "Unsigned hexadecimal (uppercase):                         2FBE\n",
      "Unsigned hexadecimal (uppercase):                 0X0000002FBE\n",
      "Unsigned octal:                                          27676\n",
      "Floating point exponential format (lowercase):    1.222200e+04\n",
      "String using repr():                              'βγδ♻'\n",
      "String using str():                               βγδ♻\n",
      "--------------------- \n",
      "\n",
      "           Description: 000000012222\n",
      "        Description x2: 000000024444\n",
      " Longer Description x4: 000000048888\n"
     ]
    }
   ],
   "source": [
    "x = 12222\n",
    "a = 'βγδ♻'\n",
    "print('Signed Integer Decimal:                           {0:12d}'.format(x))\n",
    "print('Signed Integer Decimal with thousands separator:  {0:12,d}'.format(x))\n",
    "print('Signed Integer Decimal padded with zeroes:        {0:012d}'.format(x))\n",
    "print('Signed Integer Decimal padded with zeroes signed: {0:+012d}'.format(x))\n",
    "print('Signed Integer Decimal leading space if positive: {0: 012d}'.format(x))\n",
    "print('Signed Integer Decimal aligned to the left:       {0:<12d}'.format(x))\n",
    "print('Signed Integer Decimal centered:                  {0:^12d}'.format(x))\n",
    "print('Floating point decimal format:                    {0:12.2F}'.format(x))\n",
    "print('Unsigned hexadecimal (uppercase):                 {0:12X}'.format(x))\n",
    "print('Unsigned hexadecimal (uppercase):                 {0:#012X}'.format(x))\n",
    "print('Unsigned octal:                                   {0:12o}'.format(x))\n",
    "print('Floating point exponential format (lowercase):    {0:12e}'.format(x))\n",
    "print('String using repr():                              {0!r}'.format(a))\n",
    "print('String using str():                               {0!s}'.format(a))\n",
    "print('-'*21, '\\n') # '-'*21 is the same as '-'+'-'+'-'+... 21 times\n",
    "print('{0:>22s}: {1:012d}'.format('Description', x))\n",
    "print('{0:>22s}: {1:012d}'.format('Description x2', x*2))\n",
    "print('{0:>22s}: {1:012d}'.format('Longer Description x4', x*4))"
   ]
  },
  {
   "cell_type": "markdown",
   "metadata": {},
   "source": [
    "### Numeri\n",
    "Così come le stringhe, è sufficiente assegnare a una variabile un valore numerico (ma senza \"\" o '').\n",
    "Esistono 4 tipi di numeri: int, float, long e complex"
   ]
  },
  {
   "cell_type": "code",
   "execution_count": 28,
   "metadata": {},
   "outputs": [
    {
     "name": "stdout",
     "output_type": "stream",
     "text": [
      "<class 'int'>\n",
      "<class 'float'>\n",
      "10 0.221\n",
      "10.221\n",
      "9.779\n",
      "2.21\n",
      "45.248868778280546\n"
     ]
    }
   ],
   "source": [
    "a = 10   # int\n",
    "print(type(a))\n",
    "b = 0.221   # float\n",
    "print(type(b))\n",
    "\n",
    "print(a, b)\n",
    "print(a+b)\n",
    "print(a-b)\n",
    "print(a*b)\n",
    "print(a/b)"
   ]
  },
  {
   "cell_type": "code",
   "execution_count": 36,
   "metadata": {},
   "outputs": [
    {
     "name": "stdout",
     "output_type": "stream",
     "text": [
      "<class 'int'>\n",
      "32187985874687634875628376587342653287657298\n",
      "<class 'complex'>\n",
      "2.0\n",
      "3.0\n"
     ]
    }
   ],
   "source": [
    "lng = 32187985874687634875628376587342653287657298 # long int\n",
    "print(type(lng))\n",
    "print(lng)\n",
    "\n",
    "cplx = 3 + 2j   # complex\n",
    "print(type(cplx))\n",
    "print(cplx.imag)\n",
    "print(cplx.real)\n"
   ]
  },
  {
   "cell_type": "code",
   "execution_count": 38,
   "metadata": {},
   "outputs": [
    {
     "name": "stdout",
     "output_type": "stream",
     "text": [
      "0.6\n",
      "0\n",
      "1\n",
      "2\n",
      "11\n",
      "12\n"
     ]
    }
   ],
   "source": [
    "# da python3.x, anche la divisione fra due int restituisce il risultato corretto:\n",
    "print(3/5)\n",
    "\n",
    "# si può usare un cast per ottenere un int:\n",
    "print(int(3/5))\n",
    "print(int(1.99999)) # arrotonda sempre per difetto\n",
    "\n",
    "# un'altra operazione fra int è il modulus: \n",
    "print(12%5)\n",
    "\n",
    "# per aumentare un numero di una quantità posso usare:\n",
    "a = 10\n",
    "a = a + 1\n",
    "print(a)\n",
    "a+=1\n",
    "print(a)"
   ]
  },
  {
   "cell_type": "code",
   "execution_count": 41,
   "metadata": {},
   "outputs": [
    {
     "name": "stdout",
     "output_type": "stream",
     "text": [
      "Stringa123.45\n"
     ]
    }
   ],
   "source": [
    "# per aggiungere un numero ad una stringa devo usare o il formatting (come sopra) o castare il numero come string:\n",
    "s = \"Stringa\"\n",
    "a = 123.45\n",
    "# s += a          # errore\n",
    "s += str(a)\n",
    "print(s)"
   ]
  },
  {
   "cell_type": "markdown",
   "metadata": {},
   "source": [
    "![ChessUrl](https://media1.tenor.com/images/e83fc8c909303d47f111714e5d6d95d8/tenor.gif \"That's all\")"
   ]
  }
 ],
 "metadata": {
  "kernelspec": {
   "display_name": "Python 3",
   "language": "python",
   "name": "python3"
  },
  "language_info": {
   "codemirror_mode": {
    "name": "ipython",
    "version": 3
   },
   "file_extension": ".py",
   "mimetype": "text/x-python",
   "name": "python",
   "nbconvert_exporter": "python",
   "pygments_lexer": "ipython3",
   "version": "3.7.4"
  }
 },
 "nbformat": 4,
 "nbformat_minor": 2
}
