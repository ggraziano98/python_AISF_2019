{
 "cells": [
  {
   "cell_type": "markdown",
   "metadata": {},
   "source": [
    "### High Scores:\n",
    "Definite tre funzioni che prendano come argomento una lista di punteggi e mi diano come return: l’ultimo punteggio aggiunto, il punteggio Massimo e I tre punteggi più alti."
   ]
  },
  {
   "cell_type": "code",
   "execution_count": 1,
   "metadata": {},
   "outputs": [
    {
     "name": "stdout",
     "output_type": "stream",
     "text": [
      "4\n",
      "6\n",
      "[3, 4, 6]\n"
     ]
    }
   ],
   "source": [
    "def last_score(list):\n",
    "    return list[-1]\n",
    "\n",
    "def high_score(list):\n",
    "    return sorted(list)[-1]\n",
    "\n",
    "def top_three(list):\n",
    "    return sorted(list)[-3:]\n",
    "\n",
    "scores = [0, 3, 6, 2, 1, 4]\n",
    "print(last_score(scores))\n",
    "print(high_score(scores))\n",
    "print(top_three(scores))"
   ]
  },
  {
   "cell_type": "markdown",
   "metadata": {},
   "source": [
    "### Permutazioni:\n",
    "Definite una funzione che prenda una stringa di caratteri come argomento e restituisca una lista di tutte le permutazioni possibili. L’ordine non conta, ma non devono esserci duplicate"
   ]
  },
  {
   "cell_type": "code",
   "execution_count": 2,
   "metadata": {},
   "outputs": [
    {
     "name": "stdout",
     "output_type": "stream",
     "text": [
      "['ABCDE', 'BACDE', 'BCADE', 'BCDAE', 'BCDEA', 'ACBDE', 'CABDE', 'CBADE', 'CBDAE', 'CBDEA', 'ACDBE', 'CADBE', 'CDABE', 'CDBAE', 'CDBEA', 'ACDEB', 'CADEB', 'CDAEB', 'CDEAB', 'CDEBA', 'ABDCE', 'BADCE', 'BDACE', 'BDCAE', 'BDCEA', 'ADBCE', 'DABCE', 'DBACE', 'DBCAE', 'DBCEA', 'ADCBE', 'DACBE', 'DCABE', 'DCBAE', 'DCBEA', 'ADCEB', 'DACEB', 'DCAEB', 'DCEAB', 'DCEBA', 'ABDEC', 'BADEC', 'BDAEC', 'BDEAC', 'BDECA', 'ADBEC', 'DABEC', 'DBAEC', 'DBEAC', 'DBECA', 'ADEBC', 'DAEBC', 'DEABC', 'DEBAC', 'DEBCA', 'ADECB', 'DAECB', 'DEACB', 'DECAB', 'DECBA', 'ABCED', 'BACED', 'BCAED', 'BCEAD', 'BCEDA', 'ACBED', 'CABED', 'CBAED', 'CBEAD', 'CBEDA', 'ACEBD', 'CAEBD', 'CEABD', 'CEBAD', 'CEBDA', 'ACEDB', 'CAEDB', 'CEADB', 'CEDAB', 'CEDBA', 'ABECD', 'BAECD', 'BEACD', 'BECAD', 'BECDA', 'AEBCD', 'EABCD', 'EBACD', 'EBCAD', 'EBCDA', 'AECBD', 'EACBD', 'ECABD', 'ECBAD', 'ECBDA', 'AECDB', 'EACDB', 'ECADB', 'ECDAB', 'ECDBA', 'ABEDC', 'BAEDC', 'BEADC', 'BEDAC', 'BEDCA', 'AEBDC', 'EABDC', 'EBADC', 'EBDAC', 'EBDCA', 'AEDBC', 'EADBC', 'EDABC', 'EDBAC', 'EDBCA', 'AEDCB', 'EADCB', 'EDACB', 'EDCAB', 'EDCBA']\n"
     ]
    }
   ],
   "source": [
    "# Dobbiamo usare un metodo un po' particolare, una funzione ricorsiva\n",
    "# Vuol dire che la funzione richiama se stessa finché non riceve un argomento particolare\n",
    "\n",
    "def permutazioni(sequence):\n",
    "    perm_list = []\n",
    "    if len(sequence) == 1:\n",
    "        return [sequence]\n",
    "    else:\n",
    "        for perm in permutazioni(sequence[1:]):\n",
    "            for i in range(len(sequence)):\n",
    "                temp_perm = list(perm)\n",
    "                temp_perm.insert(i, sequence[0])\n",
    "                perm_list.append(\"\".join(temp_perm))\n",
    "    return perm_list\n",
    "\n",
    "print(permutazioni(\"ABCDE\"))"
   ]
  },
  {
   "cell_type": "markdown",
   "metadata": {},
   "source": [
    "### Primi:\n",
    "Definite una funzione che prenda un intero n e determine l’n-esimo numero primo "
   ]
  },
  {
   "cell_type": "code",
   "execution_count": 3,
   "metadata": {},
   "outputs": [
    {
     "name": "stdout",
     "output_type": "stream",
     "text": [
      "2423\n",
      "[2, 3, 5, 7, 11, 13, 17, 19, 23, 29, 31, 37, 41, 43, 47, 53, 59, 61, 67, 71, 73, 79, 83, 89, 97, 101, 103, 107, 109, 113, 127, 131, 137, 139, 149, 151, 157, 163, 167, 173, 179, 181, 191, 193, 197, 199, 211, 223, 227, 229, 233, 239, 241, 251, 257, 263, 269, 271, 277, 281, 283, 293, 307, 311, 313, 317, 331, 337, 347, 349, 353, 359, 367, 373, 379, 383, 389, 397, 401, 409, 419, 421, 431, 433, 439, 443, 449, 457, 461, 463, 467, 479, 487, 491, 499, 503, 509, 521, 523, 541, 547, 557, 563, 569, 571, 577, 587, 593, 599, 601, 607, 613, 617, 619, 631, 641, 643, 647, 653, 659, 661, 673, 677, 683, 691, 701, 709, 719, 727, 733, 739, 743, 751, 757, 761, 769, 773, 787, 797, 809, 811, 821, 823, 827, 829, 839, 853, 857, 859, 863, 877, 881, 883, 887, 907, 911, 919, 929, 937, 941, 947, 953, 967, 971, 977, 983, 991, 997, 1009, 1013, 1019, 1021, 1031, 1033, 1039, 1049, 1051, 1061, 1063, 1069, 1087, 1091, 1093, 1097, 1103, 1109, 1117, 1123, 1129, 1151, 1153, 1163, 1171, 1181, 1187, 1193, 1201, 1213, 1217, 1223, 1229, 1231, 1237, 1249, 1259, 1277, 1279, 1283, 1289, 1291, 1297, 1301, 1303, 1307, 1319, 1321, 1327, 1361, 1367, 1373, 1381, 1399, 1409, 1423, 1427, 1429, 1433, 1439, 1447, 1451, 1453, 1459, 1471, 1481, 1483, 1487, 1489, 1493, 1499, 1511, 1523, 1531, 1543, 1549, 1553, 1559, 1567, 1571, 1579, 1583, 1597, 1601, 1607, 1609, 1613, 1619, 1621, 1627, 1637, 1657, 1663, 1667, 1669, 1693, 1697, 1699, 1709, 1721, 1723, 1733, 1741, 1747, 1753, 1759, 1777, 1783, 1787, 1789, 1801, 1811, 1823, 1831, 1847, 1861, 1867, 1871, 1873, 1877, 1879, 1889, 1901, 1907, 1913, 1931, 1933, 1949, 1951, 1973, 1979, 1987, 1993, 1997, 1999, 2003, 2011, 2017, 2027, 2029, 2039, 2053, 2063, 2069, 2081, 2083, 2087, 2089, 2099, 2111, 2113, 2129, 2131, 2137, 2141, 2143, 2153, 2161, 2179, 2203, 2207, 2213, 2221, 2237, 2239, 2243, 2251, 2267, 2269, 2273, 2281, 2287, 2293, 2297, 2309, 2311, 2333, 2339, 2341, 2347, 2351, 2357, 2371, 2377, 2381, 2383, 2389, 2393, 2399, 2411, 2417, 2423]\n"
     ]
    }
   ],
   "source": [
    "lista_primi = [2, 3]\n",
    "\n",
    "def primo(n):\n",
    "    global lista_primi\n",
    "    if len(lista_primi) >= n:\n",
    "        return lista_primi[n]\n",
    "    i = 2\n",
    "    primo = 3\n",
    "    while i < n:\n",
    "        primo += 2\n",
    "        while not isprime(primo, i):\n",
    "            primo += 2\n",
    "        lista_primi.append(primo)\n",
    "        i += 1\n",
    "    return primo\n",
    "\n",
    "def isprime(n, i):\n",
    "    for j in range(1, i-1):\n",
    "        if n%primo(j) == 0:\n",
    "            return False\n",
    "    return True\n",
    "\n",
    "print(primo(360))\n",
    "print(lista_primi)"
   ]
  },
  {
   "cell_type": "code",
   "execution_count": null,
   "metadata": {},
   "outputs": [],
   "source": []
  }
 ],
 "metadata": {
  "kernelspec": {
   "display_name": "Python 3",
   "language": "python",
   "name": "python3"
  },
  "language_info": {
   "codemirror_mode": {
    "name": "ipython",
    "version": 3
   },
   "file_extension": ".py",
   "mimetype": "text/x-python",
   "name": "python",
   "nbconvert_exporter": "python",
   "pygments_lexer": "ipython3",
   "version": "3.7.4"
  }
 },
 "nbformat": 4,
 "nbformat_minor": 2
}
